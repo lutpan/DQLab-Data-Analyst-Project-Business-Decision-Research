{
 "cells": [
  {
   "cell_type": "markdown",
   "metadata": {},
   "source": [
    "Dataset from\n",
    "https://dqlab-dataset.s3-ap-southeast-1.amazonaws.com/data_retail.csv"
   ]
  },
  {
   "cell_type": "code",
   "execution_count": 1,
   "metadata": {},
   "outputs": [],
   "source": [
    "import pandas as pd\n",
    "import numpy as np\n",
    "import matplotlib.pyplot as plt\n",
    "import seaborn as sns\n",
    "import warnings\n",
    "warnings.filterwarnings('ignore')\n",
    "\n",
    "pd.set_option('display.max_columns', None)\n",
    "pd.set_option('display.max_rows', None)\n",
    "sns.set(style='ticks')"
   ]
  },
  {
   "cell_type": "code",
   "execution_count": 2,
   "metadata": {},
   "outputs": [
    {
     "data": {
      "text/html": [
       "<div>\n",
       "<style scoped>\n",
       "    .dataframe tbody tr th:only-of-type {\n",
       "        vertical-align: middle;\n",
       "    }\n",
       "\n",
       "    .dataframe tbody tr th {\n",
       "        vertical-align: top;\n",
       "    }\n",
       "\n",
       "    .dataframe thead th {\n",
       "        text-align: right;\n",
       "    }\n",
       "</style>\n",
       "<table border=\"1\" class=\"dataframe\">\n",
       "  <thead>\n",
       "    <tr style=\"text-align: right;\">\n",
       "      <th></th>\n",
       "      <th>no</th>\n",
       "      <th>Row_Num</th>\n",
       "      <th>Customer_ID</th>\n",
       "      <th>Product</th>\n",
       "      <th>First_Transaction</th>\n",
       "      <th>Last_Transaction</th>\n",
       "      <th>Average_Transaction_Amount</th>\n",
       "      <th>Count_Transaction</th>\n",
       "    </tr>\n",
       "  </thead>\n",
       "  <tbody>\n",
       "    <tr>\n",
       "      <th>0</th>\n",
       "      <td>1</td>\n",
       "      <td>1</td>\n",
       "      <td>29531</td>\n",
       "      <td>Jaket</td>\n",
       "      <td>1466304274396</td>\n",
       "      <td>1538718482608</td>\n",
       "      <td>1467681</td>\n",
       "      <td>22</td>\n",
       "    </tr>\n",
       "    <tr>\n",
       "      <th>1</th>\n",
       "      <td>2</td>\n",
       "      <td>2</td>\n",
       "      <td>29531</td>\n",
       "      <td>Sepatu</td>\n",
       "      <td>1406077331494</td>\n",
       "      <td>1545735761270</td>\n",
       "      <td>1269337</td>\n",
       "      <td>41</td>\n",
       "    </tr>\n",
       "    <tr>\n",
       "      <th>2</th>\n",
       "      <td>3</td>\n",
       "      <td>3</td>\n",
       "      <td>141526</td>\n",
       "      <td>Tas</td>\n",
       "      <td>1493349147000</td>\n",
       "      <td>1548322802000</td>\n",
       "      <td>310915</td>\n",
       "      <td>30</td>\n",
       "    </tr>\n",
       "    <tr>\n",
       "      <th>3</th>\n",
       "      <td>4</td>\n",
       "      <td>4</td>\n",
       "      <td>141526</td>\n",
       "      <td>Jaket</td>\n",
       "      <td>1493362372547</td>\n",
       "      <td>1547643603911</td>\n",
       "      <td>722632</td>\n",
       "      <td>27</td>\n",
       "    </tr>\n",
       "    <tr>\n",
       "      <th>4</th>\n",
       "      <td>5</td>\n",
       "      <td>5</td>\n",
       "      <td>37545</td>\n",
       "      <td>Sepatu</td>\n",
       "      <td>1429178498531</td>\n",
       "      <td>1542891221530</td>\n",
       "      <td>1775036</td>\n",
       "      <td>25</td>\n",
       "    </tr>\n",
       "  </tbody>\n",
       "</table>\n",
       "</div>"
      ],
      "text/plain": [
       "   no  Row_Num  Customer_ID Product  First_Transaction  Last_Transaction  \\\n",
       "0   1        1        29531   Jaket      1466304274396     1538718482608   \n",
       "1   2        2        29531  Sepatu      1406077331494     1545735761270   \n",
       "2   3        3       141526     Tas      1493349147000     1548322802000   \n",
       "3   4        4       141526   Jaket      1493362372547     1547643603911   \n",
       "4   5        5        37545  Sepatu      1429178498531     1542891221530   \n",
       "\n",
       "   Average_Transaction_Amount  Count_Transaction  \n",
       "0                     1467681                 22  \n",
       "1                     1269337                 41  \n",
       "2                      310915                 30  \n",
       "3                      722632                 27  \n",
       "4                     1775036                 25  "
      ]
     },
     "execution_count": 2,
     "metadata": {},
     "output_type": "execute_result"
    }
   ],
   "source": [
    "import pandas as pd\n",
    "\n",
    "df = pd.read_csv('https://dqlab-dataset.s3-ap-southeast-1.amazonaws.com/data_retail.csv', sep=';')\n",
    "\n",
    "df.head()\n"
   ]
  },
  {
   "cell_type": "code",
   "execution_count": 3,
   "metadata": {},
   "outputs": [
    {
     "data": {
      "text/html": [
       "<div>\n",
       "<style scoped>\n",
       "    .dataframe tbody tr th:only-of-type {\n",
       "        vertical-align: middle;\n",
       "    }\n",
       "\n",
       "    .dataframe tbody tr th {\n",
       "        vertical-align: top;\n",
       "    }\n",
       "\n",
       "    .dataframe thead th {\n",
       "        text-align: right;\n",
       "    }\n",
       "</style>\n",
       "<table border=\"1\" class=\"dataframe\">\n",
       "  <thead>\n",
       "    <tr style=\"text-align: right;\">\n",
       "      <th></th>\n",
       "      <th>no</th>\n",
       "      <th>Row_Num</th>\n",
       "      <th>Customer_ID</th>\n",
       "      <th>First_Transaction</th>\n",
       "      <th>Last_Transaction</th>\n",
       "      <th>Average_Transaction_Amount</th>\n",
       "      <th>Count_Transaction</th>\n",
       "    </tr>\n",
       "  </thead>\n",
       "  <tbody>\n",
       "    <tr>\n",
       "      <th>count</th>\n",
       "      <td>100000.000000</td>\n",
       "      <td>100000.000000</td>\n",
       "      <td>100000.000000</td>\n",
       "      <td>1.000000e+05</td>\n",
       "      <td>1.000000e+05</td>\n",
       "      <td>1.000000e+05</td>\n",
       "      <td>100000.000000</td>\n",
       "    </tr>\n",
       "    <tr>\n",
       "      <th>mean</th>\n",
       "      <td>50000.500000</td>\n",
       "      <td>50000.500000</td>\n",
       "      <td>193083.996940</td>\n",
       "      <td>1.492184e+12</td>\n",
       "      <td>1.509970e+12</td>\n",
       "      <td>1.373157e+06</td>\n",
       "      <td>11.698500</td>\n",
       "    </tr>\n",
       "    <tr>\n",
       "      <th>std</th>\n",
       "      <td>28867.657797</td>\n",
       "      <td>28867.657797</td>\n",
       "      <td>200747.292955</td>\n",
       "      <td>3.948432e+10</td>\n",
       "      <td>3.563295e+10</td>\n",
       "      <td>1.544435e+06</td>\n",
       "      <td>35.417324</td>\n",
       "    </tr>\n",
       "    <tr>\n",
       "      <th>min</th>\n",
       "      <td>1.000000</td>\n",
       "      <td>1.000000</td>\n",
       "      <td>654.000000</td>\n",
       "      <td>1.362729e+12</td>\n",
       "      <td>1.362729e+12</td>\n",
       "      <td>0.000000e+00</td>\n",
       "      <td>1.000000</td>\n",
       "    </tr>\n",
       "    <tr>\n",
       "      <th>25%</th>\n",
       "      <td>25000.750000</td>\n",
       "      <td>25000.750000</td>\n",
       "      <td>60994.500000</td>\n",
       "      <td>1.467106e+12</td>\n",
       "      <td>1.491482e+12</td>\n",
       "      <td>4.783038e+05</td>\n",
       "      <td>1.000000</td>\n",
       "    </tr>\n",
       "    <tr>\n",
       "      <th>50%</th>\n",
       "      <td>50000.500000</td>\n",
       "      <td>50000.500000</td>\n",
       "      <td>121441.000000</td>\n",
       "      <td>1.499012e+12</td>\n",
       "      <td>1.518611e+12</td>\n",
       "      <td>9.059370e+05</td>\n",
       "      <td>2.000000</td>\n",
       "    </tr>\n",
       "    <tr>\n",
       "      <th>75%</th>\n",
       "      <td>75000.250000</td>\n",
       "      <td>75000.250000</td>\n",
       "      <td>196023.000000</td>\n",
       "      <td>1.523675e+12</td>\n",
       "      <td>1.539695e+12</td>\n",
       "      <td>1.636372e+06</td>\n",
       "      <td>6.000000</td>\n",
       "    </tr>\n",
       "    <tr>\n",
       "      <th>max</th>\n",
       "      <td>100000.000000</td>\n",
       "      <td>100000.000000</td>\n",
       "      <td>846213.000000</td>\n",
       "      <td>1.549061e+12</td>\n",
       "      <td>1.549065e+12</td>\n",
       "      <td>4.881014e+07</td>\n",
       "      <td>3852.000000</td>\n",
       "    </tr>\n",
       "  </tbody>\n",
       "</table>\n",
       "</div>"
      ],
      "text/plain": [
       "                  no        Row_Num    Customer_ID  First_Transaction  \\\n",
       "count  100000.000000  100000.000000  100000.000000       1.000000e+05   \n",
       "mean    50000.500000   50000.500000  193083.996940       1.492184e+12   \n",
       "std     28867.657797   28867.657797  200747.292955       3.948432e+10   \n",
       "min         1.000000       1.000000     654.000000       1.362729e+12   \n",
       "25%     25000.750000   25000.750000   60994.500000       1.467106e+12   \n",
       "50%     50000.500000   50000.500000  121441.000000       1.499012e+12   \n",
       "75%     75000.250000   75000.250000  196023.000000       1.523675e+12   \n",
       "max    100000.000000  100000.000000  846213.000000       1.549061e+12   \n",
       "\n",
       "       Last_Transaction  Average_Transaction_Amount  Count_Transaction  \n",
       "count      1.000000e+05                1.000000e+05      100000.000000  \n",
       "mean       1.509970e+12                1.373157e+06          11.698500  \n",
       "std        3.563295e+10                1.544435e+06          35.417324  \n",
       "min        1.362729e+12                0.000000e+00           1.000000  \n",
       "25%        1.491482e+12                4.783038e+05           1.000000  \n",
       "50%        1.518611e+12                9.059370e+05           2.000000  \n",
       "75%        1.539695e+12                1.636372e+06           6.000000  \n",
       "max        1.549065e+12                4.881014e+07        3852.000000  "
      ]
     },
     "execution_count": 3,
     "metadata": {},
     "output_type": "execute_result"
    }
   ],
   "source": [
    "df.describe()"
   ]
  },
  {
   "cell_type": "markdown",
   "metadata": {},
   "source": [
    "Data Cleansing\n",
    "\n",
    "Dua kolom yang menunjukkan terjadinya transaksi tidak bertipe datetime, maka ubahlah kedua kolom tersebut ke tipe data datetime. Kemudian cetaklah kembali 5 data teratas dari dataframe df dan juga tipe data masing-masing kolomnya."
   ]
  },
  {
   "cell_type": "code",
   "execution_count": 4,
   "metadata": {},
   "outputs": [
    {
     "data": {
      "text/html": [
       "<div>\n",
       "<style scoped>\n",
       "    .dataframe tbody tr th:only-of-type {\n",
       "        vertical-align: middle;\n",
       "    }\n",
       "\n",
       "    .dataframe tbody tr th {\n",
       "        vertical-align: top;\n",
       "    }\n",
       "\n",
       "    .dataframe thead th {\n",
       "        text-align: right;\n",
       "    }\n",
       "</style>\n",
       "<table border=\"1\" class=\"dataframe\">\n",
       "  <thead>\n",
       "    <tr style=\"text-align: right;\">\n",
       "      <th></th>\n",
       "      <th>no</th>\n",
       "      <th>Row_Num</th>\n",
       "      <th>Customer_ID</th>\n",
       "      <th>Product</th>\n",
       "      <th>First_Transaction</th>\n",
       "      <th>Last_Transaction</th>\n",
       "      <th>Average_Transaction_Amount</th>\n",
       "      <th>Count_Transaction</th>\n",
       "    </tr>\n",
       "  </thead>\n",
       "  <tbody>\n",
       "    <tr>\n",
       "      <th>0</th>\n",
       "      <td>1</td>\n",
       "      <td>1</td>\n",
       "      <td>29531</td>\n",
       "      <td>Jaket</td>\n",
       "      <td>2016-06-19 02:44:34.395999908</td>\n",
       "      <td>2018-10-05 05:48:02.608000040</td>\n",
       "      <td>1467681</td>\n",
       "      <td>22</td>\n",
       "    </tr>\n",
       "    <tr>\n",
       "      <th>1</th>\n",
       "      <td>2</td>\n",
       "      <td>2</td>\n",
       "      <td>29531</td>\n",
       "      <td>Sepatu</td>\n",
       "      <td>2014-07-23 01:02:11.493999958</td>\n",
       "      <td>2018-12-25 11:02:41.269999981</td>\n",
       "      <td>1269337</td>\n",
       "      <td>41</td>\n",
       "    </tr>\n",
       "    <tr>\n",
       "      <th>2</th>\n",
       "      <td>3</td>\n",
       "      <td>3</td>\n",
       "      <td>141526</td>\n",
       "      <td>Tas</td>\n",
       "      <td>2017-04-28 03:12:27.000000000</td>\n",
       "      <td>2019-01-24 09:40:02.000000000</td>\n",
       "      <td>310915</td>\n",
       "      <td>30</td>\n",
       "    </tr>\n",
       "    <tr>\n",
       "      <th>3</th>\n",
       "      <td>4</td>\n",
       "      <td>4</td>\n",
       "      <td>141526</td>\n",
       "      <td>Jaket</td>\n",
       "      <td>2017-04-28 06:52:52.546999931</td>\n",
       "      <td>2019-01-16 13:00:03.911000013</td>\n",
       "      <td>722632</td>\n",
       "      <td>27</td>\n",
       "    </tr>\n",
       "    <tr>\n",
       "      <th>4</th>\n",
       "      <td>5</td>\n",
       "      <td>5</td>\n",
       "      <td>37545</td>\n",
       "      <td>Sepatu</td>\n",
       "      <td>2015-04-16 10:01:38.530999899</td>\n",
       "      <td>2018-11-22 12:53:41.529999970</td>\n",
       "      <td>1775036</td>\n",
       "      <td>25</td>\n",
       "    </tr>\n",
       "  </tbody>\n",
       "</table>\n",
       "</div>"
      ],
      "text/plain": [
       "   no  Row_Num  Customer_ID Product             First_Transaction  \\\n",
       "0   1        1        29531   Jaket 2016-06-19 02:44:34.395999908   \n",
       "1   2        2        29531  Sepatu 2014-07-23 01:02:11.493999958   \n",
       "2   3        3       141526     Tas 2017-04-28 03:12:27.000000000   \n",
       "3   4        4       141526   Jaket 2017-04-28 06:52:52.546999931   \n",
       "4   5        5        37545  Sepatu 2015-04-16 10:01:38.530999899   \n",
       "\n",
       "               Last_Transaction  Average_Transaction_Amount  Count_Transaction  \n",
       "0 2018-10-05 05:48:02.608000040                     1467681                 22  \n",
       "1 2018-12-25 11:02:41.269999981                     1269337                 41  \n",
       "2 2019-01-24 09:40:02.000000000                      310915                 30  \n",
       "3 2019-01-16 13:00:03.911000013                      722632                 27  \n",
       "4 2018-11-22 12:53:41.529999970                     1775036                 25  "
      ]
     },
     "execution_count": 4,
     "metadata": {},
     "output_type": "execute_result"
    }
   ],
   "source": [
    "# Kolom First_Transaction\n",
    "df['First_Transaction'] = pd.to_datetime(df['First_Transaction']/1000, unit='s', origin='1970-01-01')\n",
    "# Kolom Last_Transaction\n",
    "df['Last_Transaction'] = pd.to_datetime(df['Last_Transaction']/1000, unit='s', origin='1970-01-01')\n",
    "\n",
    "df.head()"
   ]
  },
  {
   "cell_type": "code",
   "execution_count": 5,
   "metadata": {},
   "outputs": [
    {
     "name": "stdout",
     "output_type": "stream",
     "text": [
      "<class 'pandas.core.frame.DataFrame'>\n",
      "RangeIndex: 100000 entries, 0 to 99999\n",
      "Data columns (total 8 columns):\n",
      " #   Column                      Non-Null Count   Dtype         \n",
      "---  ------                      --------------   -----         \n",
      " 0   no                          100000 non-null  int64         \n",
      " 1   Row_Num                     100000 non-null  int64         \n",
      " 2   Customer_ID                 100000 non-null  int64         \n",
      " 3   Product                     100000 non-null  object        \n",
      " 4   First_Transaction           100000 non-null  datetime64[ns]\n",
      " 5   Last_Transaction            100000 non-null  datetime64[ns]\n",
      " 6   Average_Transaction_Amount  100000 non-null  int64         \n",
      " 7   Count_Transaction           100000 non-null  int64         \n",
      "dtypes: datetime64[ns](2), int64(5), object(1)\n",
      "memory usage: 6.1+ MB\n"
     ]
    }
   ],
   "source": [
    "df.info()"
   ]
  },
  {
   "cell_type": "markdown",
   "metadata": {},
   "source": [
    "Churn Customers\n",
    "\n",
    "Untuk menentukan churn customers sesuai definisi yang telah diberikan, carilah\n",
    "\n",
    "    transaksi paling terakhir kapan dilakukan\n",
    "    klasifikasikanlah mana customer yang berstatus churn dan mana yang tidak.\n",
    "\n",
    "Setelah itu cetak lima data teratas dan informasi dataset."
   ]
  },
  {
   "cell_type": "code",
   "execution_count": 6,
   "metadata": {
    "scrolled": true
   },
   "outputs": [
    {
     "name": "stdout",
     "output_type": "stream",
     "text": [
      "2019-02-01 23:57:57.286000013\n"
     ]
    }
   ],
   "source": [
    "# Pengecekan transaksaksi terakhir dalam dataset\n",
    "print(max(df['Last_Transaction']))"
   ]
  },
  {
   "cell_type": "code",
   "execution_count": 7,
   "metadata": {},
   "outputs": [
    {
     "data": {
      "text/html": [
       "<div>\n",
       "<style scoped>\n",
       "    .dataframe tbody tr th:only-of-type {\n",
       "        vertical-align: middle;\n",
       "    }\n",
       "\n",
       "    .dataframe tbody tr th {\n",
       "        vertical-align: top;\n",
       "    }\n",
       "\n",
       "    .dataframe thead th {\n",
       "        text-align: right;\n",
       "    }\n",
       "</style>\n",
       "<table border=\"1\" class=\"dataframe\">\n",
       "  <thead>\n",
       "    <tr style=\"text-align: right;\">\n",
       "      <th></th>\n",
       "      <th>no</th>\n",
       "      <th>Row_Num</th>\n",
       "      <th>Customer_ID</th>\n",
       "      <th>Product</th>\n",
       "      <th>First_Transaction</th>\n",
       "      <th>Last_Transaction</th>\n",
       "      <th>Average_Transaction_Amount</th>\n",
       "      <th>Count_Transaction</th>\n",
       "      <th>is_churn</th>\n",
       "    </tr>\n",
       "  </thead>\n",
       "  <tbody>\n",
       "    <tr>\n",
       "      <th>0</th>\n",
       "      <td>1</td>\n",
       "      <td>1</td>\n",
       "      <td>29531</td>\n",
       "      <td>Jaket</td>\n",
       "      <td>2016-06-19 02:44:34.395999908</td>\n",
       "      <td>2018-10-05 05:48:02.608000040</td>\n",
       "      <td>1467681</td>\n",
       "      <td>22</td>\n",
       "      <td>False</td>\n",
       "    </tr>\n",
       "    <tr>\n",
       "      <th>1</th>\n",
       "      <td>2</td>\n",
       "      <td>2</td>\n",
       "      <td>29531</td>\n",
       "      <td>Sepatu</td>\n",
       "      <td>2014-07-23 01:02:11.493999958</td>\n",
       "      <td>2018-12-25 11:02:41.269999981</td>\n",
       "      <td>1269337</td>\n",
       "      <td>41</td>\n",
       "      <td>False</td>\n",
       "    </tr>\n",
       "    <tr>\n",
       "      <th>2</th>\n",
       "      <td>3</td>\n",
       "      <td>3</td>\n",
       "      <td>141526</td>\n",
       "      <td>Tas</td>\n",
       "      <td>2017-04-28 03:12:27.000000000</td>\n",
       "      <td>2019-01-24 09:40:02.000000000</td>\n",
       "      <td>310915</td>\n",
       "      <td>30</td>\n",
       "      <td>False</td>\n",
       "    </tr>\n",
       "    <tr>\n",
       "      <th>3</th>\n",
       "      <td>4</td>\n",
       "      <td>4</td>\n",
       "      <td>141526</td>\n",
       "      <td>Jaket</td>\n",
       "      <td>2017-04-28 06:52:52.546999931</td>\n",
       "      <td>2019-01-16 13:00:03.911000013</td>\n",
       "      <td>722632</td>\n",
       "      <td>27</td>\n",
       "      <td>False</td>\n",
       "    </tr>\n",
       "    <tr>\n",
       "      <th>4</th>\n",
       "      <td>5</td>\n",
       "      <td>5</td>\n",
       "      <td>37545</td>\n",
       "      <td>Sepatu</td>\n",
       "      <td>2015-04-16 10:01:38.530999899</td>\n",
       "      <td>2018-11-22 12:53:41.529999970</td>\n",
       "      <td>1775036</td>\n",
       "      <td>25</td>\n",
       "      <td>False</td>\n",
       "    </tr>\n",
       "  </tbody>\n",
       "</table>\n",
       "</div>"
      ],
      "text/plain": [
       "   no  Row_Num  Customer_ID Product             First_Transaction  \\\n",
       "0   1        1        29531   Jaket 2016-06-19 02:44:34.395999908   \n",
       "1   2        2        29531  Sepatu 2014-07-23 01:02:11.493999958   \n",
       "2   3        3       141526     Tas 2017-04-28 03:12:27.000000000   \n",
       "3   4        4       141526   Jaket 2017-04-28 06:52:52.546999931   \n",
       "4   5        5        37545  Sepatu 2015-04-16 10:01:38.530999899   \n",
       "\n",
       "               Last_Transaction  Average_Transaction_Amount  \\\n",
       "0 2018-10-05 05:48:02.608000040                     1467681   \n",
       "1 2018-12-25 11:02:41.269999981                     1269337   \n",
       "2 2019-01-24 09:40:02.000000000                      310915   \n",
       "3 2019-01-16 13:00:03.911000013                      722632   \n",
       "4 2018-11-22 12:53:41.529999970                     1775036   \n",
       "\n",
       "   Count_Transaction is_churn  \n",
       "0                 22    False  \n",
       "1                 41    False  \n",
       "2                 30    False  \n",
       "3                 27    False  \n",
       "4                 25    False  "
      ]
     },
     "execution_count": 7,
     "metadata": {},
     "output_type": "execute_result"
    }
   ],
   "source": [
    "# Klasifikasikan customer yang berstatus churn atau tidak dengan boolean\n",
    "df.loc[df['Last_Transaction']<='2018-08-01', 'is_churn'] = True\n",
    "df.loc[df['Last_Transaction']>'2018-08-01', 'is_churn'] = False\n",
    "df.head()"
   ]
  },
  {
   "cell_type": "code",
   "execution_count": 8,
   "metadata": {},
   "outputs": [
    {
     "name": "stdout",
     "output_type": "stream",
     "text": [
      "<class 'pandas.core.frame.DataFrame'>\n",
      "RangeIndex: 100000 entries, 0 to 99999\n",
      "Data columns (total 9 columns):\n",
      " #   Column                      Non-Null Count   Dtype         \n",
      "---  ------                      --------------   -----         \n",
      " 0   no                          100000 non-null  int64         \n",
      " 1   Row_Num                     100000 non-null  int64         \n",
      " 2   Customer_ID                 100000 non-null  int64         \n",
      " 3   Product                     100000 non-null  object        \n",
      " 4   First_Transaction           100000 non-null  datetime64[ns]\n",
      " 5   Last_Transaction            100000 non-null  datetime64[ns]\n",
      " 6   Average_Transaction_Amount  100000 non-null  int64         \n",
      " 7   Count_Transaction           100000 non-null  int64         \n",
      " 8   is_churn                    100000 non-null  object        \n",
      "dtypes: datetime64[ns](2), int64(5), object(2)\n",
      "memory usage: 6.9+ MB\n"
     ]
    }
   ],
   "source": [
    "df.info()"
   ]
  },
  {
   "cell_type": "code",
   "execution_count": 9,
   "metadata": {},
   "outputs": [
    {
     "data": {
      "text/html": [
       "<div>\n",
       "<style scoped>\n",
       "    .dataframe tbody tr th:only-of-type {\n",
       "        vertical-align: middle;\n",
       "    }\n",
       "\n",
       "    .dataframe tbody tr th {\n",
       "        vertical-align: top;\n",
       "    }\n",
       "\n",
       "    .dataframe thead th {\n",
       "        text-align: right;\n",
       "    }\n",
       "</style>\n",
       "<table border=\"1\" class=\"dataframe\">\n",
       "  <thead>\n",
       "    <tr style=\"text-align: right;\">\n",
       "      <th></th>\n",
       "      <th>Customer_ID</th>\n",
       "      <th>Product</th>\n",
       "      <th>First_Transaction</th>\n",
       "      <th>Last_Transaction</th>\n",
       "      <th>Average_Transaction_Amount</th>\n",
       "      <th>Count_Transaction</th>\n",
       "      <th>is_churn</th>\n",
       "    </tr>\n",
       "  </thead>\n",
       "  <tbody>\n",
       "    <tr>\n",
       "      <th>0</th>\n",
       "      <td>29531</td>\n",
       "      <td>Jaket</td>\n",
       "      <td>2016-06-19 02:44:34.395999908</td>\n",
       "      <td>2018-10-05 05:48:02.608000040</td>\n",
       "      <td>1467681</td>\n",
       "      <td>22</td>\n",
       "      <td>False</td>\n",
       "    </tr>\n",
       "    <tr>\n",
       "      <th>1</th>\n",
       "      <td>29531</td>\n",
       "      <td>Sepatu</td>\n",
       "      <td>2014-07-23 01:02:11.493999958</td>\n",
       "      <td>2018-12-25 11:02:41.269999981</td>\n",
       "      <td>1269337</td>\n",
       "      <td>41</td>\n",
       "      <td>False</td>\n",
       "    </tr>\n",
       "    <tr>\n",
       "      <th>2</th>\n",
       "      <td>141526</td>\n",
       "      <td>Tas</td>\n",
       "      <td>2017-04-28 03:12:27.000000000</td>\n",
       "      <td>2019-01-24 09:40:02.000000000</td>\n",
       "      <td>310915</td>\n",
       "      <td>30</td>\n",
       "      <td>False</td>\n",
       "    </tr>\n",
       "    <tr>\n",
       "      <th>3</th>\n",
       "      <td>141526</td>\n",
       "      <td>Jaket</td>\n",
       "      <td>2017-04-28 06:52:52.546999931</td>\n",
       "      <td>2019-01-16 13:00:03.911000013</td>\n",
       "      <td>722632</td>\n",
       "      <td>27</td>\n",
       "      <td>False</td>\n",
       "    </tr>\n",
       "    <tr>\n",
       "      <th>4</th>\n",
       "      <td>37545</td>\n",
       "      <td>Sepatu</td>\n",
       "      <td>2015-04-16 10:01:38.530999899</td>\n",
       "      <td>2018-11-22 12:53:41.529999970</td>\n",
       "      <td>1775036</td>\n",
       "      <td>25</td>\n",
       "      <td>False</td>\n",
       "    </tr>\n",
       "  </tbody>\n",
       "</table>\n",
       "</div>"
      ],
      "text/plain": [
       "   Customer_ID Product             First_Transaction  \\\n",
       "0        29531   Jaket 2016-06-19 02:44:34.395999908   \n",
       "1        29531  Sepatu 2014-07-23 01:02:11.493999958   \n",
       "2       141526     Tas 2017-04-28 03:12:27.000000000   \n",
       "3       141526   Jaket 2017-04-28 06:52:52.546999931   \n",
       "4        37545  Sepatu 2015-04-16 10:01:38.530999899   \n",
       "\n",
       "               Last_Transaction  Average_Transaction_Amount  \\\n",
       "0 2018-10-05 05:48:02.608000040                     1467681   \n",
       "1 2018-12-25 11:02:41.269999981                     1269337   \n",
       "2 2019-01-24 09:40:02.000000000                      310915   \n",
       "3 2019-01-16 13:00:03.911000013                      722632   \n",
       "4 2018-11-22 12:53:41.529999970                     1775036   \n",
       "\n",
       "   Count_Transaction is_churn  \n",
       "0                 22    False  \n",
       "1                 41    False  \n",
       "2                 30    False  \n",
       "3                 27    False  \n",
       "4                 25    False  "
      ]
     },
     "execution_count": 9,
     "metadata": {},
     "output_type": "execute_result"
    }
   ],
   "source": [
    "# Hapus kolom-kolom yang tidak diperlukan\n",
    "del df['no']\n",
    "del df['Row_Num']\n",
    "\n",
    "# Cetak lima data teratas\n",
    "df.head()"
   ]
  },
  {
   "cell_type": "markdown",
   "metadata": {},
   "source": [
    "### Customer acquisition by year"
   ]
  },
  {
   "cell_type": "code",
   "execution_count": 10,
   "metadata": {},
   "outputs": [
    {
     "data": {
      "image/png": "[encoded data removed]",
      "text/plain": [
       "<Figure size 432x288 with 1 Axes>"
      ]
     },
     "metadata": {
      "needs_background": "light"
     },
     "output_type": "display_data"
    }
   ],
   "source": [
    "import matplotlib.pyplot as plt\n",
    "\n",
    "# Kolom tahun transaksi pertama\n",
    "df['Year_First_Transaction'] = df['First_Transaction'].dt.year\n",
    "# Kolom tahun transaksi terakhir\n",
    "df['Year_Last_Transaction'] = df['Last_Transaction'].dt.year\n",
    "\n",
    "df_year = df.groupby(['Year_First_Transaction'])['Customer_ID'].count()\n",
    "df_year.plot(x='Year_First_Transaction', y='Customer_ID', kind='bar', title='Graph of Customer Acquisition')\n",
    "plt.xlabel('Year_First_Transaction')\n",
    "plt.ylabel('Num_of_Customer')\n",
    "plt.tight_layout()\n",
    "plt.show()"
   ]
  },
  {
   "cell_type": "markdown",
   "metadata": {},
   "source": [
    "### Customer Transaction by Year"
   ]
  },
  {
   "cell_type": "code",
   "execution_count": 11,
   "metadata": {},
   "outputs": [
    {
     "data": {
      "image/png": "[encoded data removed]",
      "text/plain": [
       "<Figure size 432x288 with 1 Axes>"
      ]
     },
     "metadata": {
      "needs_background": "light"
     },
     "output_type": "display_data"
    }
   ],
   "source": [
    "import matplotlib.pyplot as plt\n",
    "\n",
    "plt.clf()\n",
    "df_year = df.groupby(['Year_First_Transaction'])['Count_Transaction'].sum()\n",
    "df_year.plot(x='Year_First_Transaction', y='Count_Transaction', kind='bar', title='Graph of Transaction Customer')\n",
    "plt.xlabel('Year_First_Transaction')\n",
    "plt.ylabel('Num_of_Transaction')\n",
    "plt.tight_layout()\n",
    "plt.show()"
   ]
  },
  {
   "cell_type": "markdown",
   "metadata": {},
   "source": [
    "### Average Transaction Amount By Year"
   ]
  },
  {
   "cell_type": "code",
   "execution_count": 12,
   "metadata": {},
   "outputs": [
    {
     "data": {
      "image/png": "[encoded data removed]",
      "text/plain": [
       "<Figure size 432x288 with 1 Axes>"
      ]
     },
     "metadata": {
      "needs_background": "light"
     },
     "output_type": "display_data"
    }
   ],
   "source": [
    "import matplotlib.pyplot as plt\n",
    "import seaborn as sns\n",
    "plt.clf()\n",
    "sns.pointplot(data = df.groupby(['Product', 'Year_First_Transaction']).mean().reset_index(),\n",
    "x='Year_First_Transaction',\n",
    "y='Average_Transaction_Amount',\n",
    "hue='Product')\n",
    "plt.tight_layout()\n",
    "plt.show()"
   ]
  },
  {
   "cell_type": "markdown",
   "metadata": {},
   "source": [
    "### Churned Customer Distribution by Product"
   ]
  },
  {
   "cell_type": "code",
   "execution_count": 13,
   "metadata": {},
   "outputs": [
    {
     "data": {
      "text/plain": [
       "<Figure size 432x288 with 0 Axes>"
      ]
     },
     "metadata": {},
     "output_type": "display_data"
    },
    {
     "data": {
      "image/png": "[encoded data removed]",
      "text/plain": [
       "<Figure size 720x504 with 4 Axes>"
      ]
     },
     "metadata": {},
     "output_type": "display_data"
    }
   ],
   "source": [
    "import matplotlib.pyplot as plt\n",
    "\n",
    "plt.clf()\n",
    "# Melakukan pivot data dengan pivot_table\n",
    "df_piv = df.pivot_table(index='is_churn', \n",
    "                        columns='Product',\n",
    "                        values='Customer_ID', \n",
    "                        aggfunc='count', \n",
    "                        fill_value=0)\n",
    "# Mendapatkan Proportion Churn by Product\n",
    "plot_product = df_piv.count().sort_values(ascending=False).head(5).index\n",
    "# Plot pie chartnya\n",
    "df_piv = df_piv.reindex(columns=plot_product)\n",
    "df_piv.plot.pie(subplots=True,\n",
    "                figsize=(10, 7),\n",
    "                layout=(-1, 2),\n",
    "                autopct='%1.0f%%',\n",
    "                title='Proportion Churn by Product')\n",
    "plt.tight_layout()\n",
    "plt.show()"
   ]
  },
  {
   "cell_type": "markdown",
   "metadata": {},
   "source": [
    "### Distribusi kategorisasi count transaction"
   ]
  },
  {
   "cell_type": "code",
   "execution_count": 14,
   "metadata": {},
   "outputs": [
    {
     "data": {
      "image/png": "[encoded data removed]",
      "text/plain": [
       "<Figure size 432x288 with 1 Axes>"
      ]
     },
     "metadata": {
      "needs_background": "light"
     },
     "output_type": "display_data"
    }
   ],
   "source": [
    "import matplotlib.pyplot as plt\n",
    "\n",
    "plt.clf()\n",
    "# Kategorisasi jumlah transaksi\n",
    "def func(row):\n",
    "    if row['Count_Transaction'] == 1:\n",
    "        val = '1. 1'\n",
    "    elif (row['Count_Transaction'] > 1 and row['Count_Transaction'] <= 3):\n",
    "        val ='2. 2-3'\n",
    "    elif (row['Count_Transaction'] > 3 and row['Count_Transaction'] <= 6):\n",
    "        val ='3. 4-6'\n",
    "    elif (row['Count_Transaction'] > 6 and row['Count_Transaction'] <= 10):\n",
    "        val ='4. 7-10'\n",
    "    else:\n",
    "        val='5. >10'\n",
    "    return val\n",
    "# Tambahkan kolom baru\n",
    "df['Count_Transaction_Group'] = df.apply(func, axis=1)\n",
    "\n",
    "df_year = df.groupby(['Count_Transaction_Group'])['Customer_ID'].count()\n",
    "df_year.plot(x='Count_Transaction_Group', y='Customer_ID', kind='bar', title='Customer Distribution by Count Transaction Group')\n",
    "plt.xlabel('Count_Transaction_Group')\n",
    "plt.ylabel('Num_of_Customer')\n",
    "plt.tight_layout()\n",
    "plt.show()"
   ]
  },
  {
   "cell_type": "markdown",
   "metadata": {},
   "source": [
    "### Distribusi kategorisasi average transaction amount"
   ]
  },
  {
   "cell_type": "code",
   "execution_count": 15,
   "metadata": {},
   "outputs": [
    {
     "data": {
      "image/png": "[encoded data removed]",
      "text/plain": [
       "<Figure size 720x576 with 1 Axes>"
      ]
     },
     "metadata": {
      "needs_background": "light"
     },
     "output_type": "display_data"
    }
   ],
   "source": [
    "import matplotlib.pyplot as plt\n",
    "\n",
    "plt.clf()\n",
    "# Kategorisasi rata-rata besar transaksi\n",
    "def f(row):\n",
    "  if (row['Average_Transaction_Amount'] >= 100000 and row['Average_Transaction_Amount'] <=200000):\n",
    " \t val ='1. 100.000 - 250.000'\n",
    "  elif (row['Average_Transaction_Amount'] >250000 and row['Average_Transaction_Amount'] <= 500000):\n",
    " \t val ='2. >250.000 - 500.000'\n",
    "  elif (row['Average_Transaction_Amount'] >500000 and row['Average_Transaction_Amount'] <= 750000):\n",
    " \t val ='3. >500.000 - 750.000'\n",
    "  elif (row['Average_Transaction_Amount'] >750000 and row['Average_Transaction_Amount'] <= 1000000):\n",
    "\t  val ='4. >750.000 - 1.000.000'\n",
    "  elif (row['Average_Transaction_Amount'] >1000000 and row['Average_Transaction_Amount'] <= 2500000):\n",
    "\t  val ='5. >1.000.000 - 2.500.000'\n",
    "  elif (row['Average_Transaction_Amount'] >2500000 and row['Average_Transaction_Amount'] <= 5000000):\n",
    "\t  val ='6. >2.500.000 - 5.000.000'\n",
    "  elif (row['Average_Transaction_Amount'] >5000000 and row['Average_Transaction_Amount'] <= 10000000):\n",
    "\t  val ='7. >5.000.000 - 10.000.000'\n",
    "  else:\n",
    "\t  val ='8. >10.000.000'\n",
    "  return val\n",
    "# Tambahkan kolom baru\n",
    "df['Average_Transaction_Amount_Group'] = df.apply(f, axis=1)\n",
    "\n",
    "df_year = df.groupby(['Average_Transaction_Amount_Group'])['Customer_ID'].count()\n",
    "df_year.plot(x='Average_Transaction_Amount_Group', y='Customer_ID',kind='bar', title='Customer Distribution by Average Transaction Amount Group', figsize=(10,8))\n",
    "plt.xlabel('Average_Transaction_Amount_Group')\n",
    "plt.ylabel('Num_of_Customer')\n",
    "plt.tight_layout()\n",
    "plt.show()"
   ]
  },
  {
   "cell_type": "code",
   "execution_count": 16,
   "metadata": {},
   "outputs": [],
   "source": [
    "# Feature column: Year_Diff\n",
    "df['Year_Diff']=df['Year_Last_Transaction']-df['Year_First_Transaction']\n",
    "\n",
    "# Nama-nama feature columns\n",
    "feature_columns = ['Average_Transaction_Amount', 'Count_Transaction', 'Year_Diff']\n",
    "\n",
    "# Features variable\n",
    "X = df[feature_columns]\n",
    "\n",
    "# Target variable\n",
    "y = df['is_churn'].astype(bool)"
   ]
  },
  {
   "cell_type": "code",
   "execution_count": 17,
   "metadata": {},
   "outputs": [],
   "source": [
    "from sklearn.model_selection import train_test_split\n",
    "\n",
    "X_train, X_test, y_train, y_test = train_test_split(X, y, test_size=0.25, random_state=0)"
   ]
  },
  {
   "cell_type": "code",
   "execution_count": 18,
   "metadata": {},
   "outputs": [],
   "source": [
    "from sklearn.linear_model import LogisticRegression\n",
    "from sklearn.metrics import confusion_matrix\n",
    "\n",
    "# Inisiasi model logreg\n",
    "logreg = LogisticRegression()"
   ]
  },
  {
   "cell_type": "code",
   "execution_count": 19,
   "metadata": {},
   "outputs": [
    {
     "data": {
      "text/plain": [
       "LogisticRegression()"
      ]
     },
     "execution_count": 19,
     "metadata": {},
     "output_type": "execute_result"
    }
   ],
   "source": [
    "# fit the model with data\n",
    "logreg.fit(X_train, y_train)"
   ]
  },
  {
   "cell_type": "code",
   "execution_count": 20,
   "metadata": {},
   "outputs": [],
   "source": [
    "# Predict model\n",
    "y_pred = logreg.predict(X_test)"
   ]
  },
  {
   "cell_type": "code",
   "execution_count": 21,
   "metadata": {},
   "outputs": [
    {
     "name": "stdout",
     "output_type": "stream",
     "text": [
      "Confusion Matrix:\n",
      " [[    1  8330]\n",
      " [    3 16666]]\n"
     ]
    }
   ],
   "source": [
    "# Evaluasi model menggunakan confusion matrix\n",
    "cnf_matrix = confusion_matrix(y_test, y_pred)\n",
    "print('Confusion Matrix:\\n', cnf_matrix)"
   ]
  },
  {
   "cell_type": "markdown",
   "metadata": {},
   "source": [
    "Visualisasi Confusion Matrix\n",
    "\n",
    "Confusion matrix yang telah dihitung sebelumnya dapat divisualisasikan dengan menggunakan heatmap dari seaborn. Untuk itu tampilkanlah visualisasi dari confusion matrix ini."
   ]
  },
  {
   "cell_type": "code",
   "execution_count": 22,
   "metadata": {},
   "outputs": [
    {
     "data": {
      "text/plain": [
       "<Figure size 432x288 with 0 Axes>"
      ]
     },
     "metadata": {},
     "output_type": "display_data"
    },
    {
     "data": {
      "image/png": "[encoded data removed]",
      "text/plain": [
       "<Figure size 432x288 with 2 Axes>"
      ]
     },
     "metadata": {
      "needs_background": "light"
     },
     "output_type": "display_data"
    }
   ],
   "source": [
    "# import required modules\n",
    "import numpy as np\n",
    "import matplotlib.pyplot as plt\n",
    "import seaborn as sns\n",
    "\n",
    "plt.clf()\n",
    "# name  of classes\n",
    "class_names = [0, 1] \n",
    "fig, ax = plt.subplots()\n",
    "\n",
    "tick_marks = np.arange(len(class_names))\n",
    "plt.xticks(tick_marks, class_names)\n",
    "plt.yticks(tick_marks, class_names)\n",
    "\n",
    "# create heatmap\n",
    "sns.heatmap(pd.DataFrame(cnf_matrix), annot=True, cmap='YlGnBu', fmt='g')\n",
    "ax.xaxis.set_label_position('top')\n",
    "plt.title('Confusion matrix', y=1.1)\n",
    "plt.ylabel('Actual')\n",
    "plt.xlabel('Predicted')\n",
    "plt.tight_layout()\n",
    "plt.show()"
   ]
  },
  {
   "cell_type": "markdown",
   "metadata": {},
   "source": [
    "Accuracy, Precision, dan Recall\n",
    "\n",
    "Kemudian, hitunglah nilai accuracy, precission dan recall berdasarkan nilai target sesungguhnya dan nilai target hasil prediksi."
   ]
  },
  {
   "cell_type": "code",
   "execution_count": 23,
   "metadata": {},
   "outputs": [
    {
     "name": "stdout",
     "output_type": "stream",
     "text": [
      "Accuracy : 0.66668\n",
      "Precision: 0.66668\n",
      "Recall   : 0.66668\n"
     ]
    }
   ],
   "source": [
    "from sklearn.metrics import accuracy_score, precision_score, recall_score\n",
    "\n",
    "#Menghitung Accuracy, Precision, dan Recall\n",
    "print('Accuracy :', accuracy_score(y_test, y_pred))\n",
    "print('Precision:', precision_score(y_test, y_pred, average='micro'))\n",
    "print('Recall   :', recall_score(y_test, y_pred, average='micro'))"
   ]
  },
  {
   "cell_type": "markdown",
   "metadata": {},
   "source": [
    "- Dapat menerapkan bahasa pemograman Python untuk menyelesaikan persoalan untuk analisis data\n",
    "- Dapat menerapkan SQL dan sistem database relational agar dapat digunakan dalam mengolah data pada perusahaan yang telah menerapkan IT\n",
    "- Dapat mengolah dataset skala kecil hingga besar\n",
    "- Dapat menerapkan exploratory data analysis (EDA) untuk persoalan bisnis\n",
    "- Dapat menghasilkan visualisasi data yang tepat sebagai representasi persoalan bisnis\n",
    "- Dapat membuat dan menghasilkan model prediktif hingga menguji tingkat akurasi untuk memilih model yang tepat\n",
    "- Dapat menerapkan teknik investigasi data-data yang memiliki anomali.\n",
    "\n",
    "\n",
    "Semangat!"
   ]
  },
  {
   "cell_type": "code",
   "execution_count": null,
   "metadata": {},
   "outputs": [],
   "source": []
  }
 ],
 "metadata": {
  "kernelspec": {
   "display_name": "Python 3",
   "language": "python",
   "name": "python3"
  },
  "language_info": {
   "codemirror_mode": {
    "name": "ipython",
    "version": 3
   },
   "file_extension": ".py",
   "mimetype": "text/x-python",
   "name": "python",
   "nbconvert_exporter": "python",
   "pygments_lexer": "ipython3",
   "version": "3.7.0"
  }
 },
 "nbformat": 4,
 "nbformat_minor": 4
}
